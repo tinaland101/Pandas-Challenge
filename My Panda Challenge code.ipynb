{
 "cells": [
  {
   "cell_type": "code",
   "execution_count": 3,
   "metadata": {},
   "outputs": [
    {
     "name": "stdout",
     "output_type": "stream",
     "text": [
      "schools_complete:\n",
      "   School ID            school_name      type  size   budget\n",
      "0          0      Huang High School  District  2917  1910635\n",
      "1          1   Figueroa High School  District  2949  1884411\n",
      "2          2    Shelton High School   Charter  1761  1056600\n",
      "3          3  Hernandez High School  District  4635  3022020\n",
      "4          4    Griffin High School   Charter  1468   917500\n",
      "\n",
      "students_complete:\n",
      "   Student ID       student_name gender grade        school_name  \\\n",
      "0           0       Paul Bradley      M   9th  Huang High School   \n",
      "1           1       Victor Smith      M  12th  Huang High School   \n",
      "2           2    Kevin Rodriguez      M  12th  Huang High School   \n",
      "3           3  Dr. Richard Scott      M  12th  Huang High School   \n",
      "4           4         Bonnie Ray      F   9th  Huang High School   \n",
      "\n",
      "   reading_score  math_score  \n",
      "0             66          79  \n",
      "1             94          61  \n",
      "2             90          60  \n",
      "3             67          58  \n",
      "4             97          84  \n"
     ]
    }
   ],
   "source": [
    "\n",
    "import pandas as pd\n",
    "\n",
    "# I loaded the CSV by dragging/dropping the file into terminal creates a path. \n",
    "file1 = pd.read_csv('/Users/christinaland/Downloads/pandachallenge.py/PyCitySchools/Resources/schools_complete.csv')\n",
    "\n",
    "# As above, I Loaded the CSV file utilizing the same method for students_complete file. \n",
    "file2 = pd.read_csv('/Users/christinaland/Downloads/pandachallenge.py/PyCitySchools/Resources/students_complete.csv')\n",
    "\n",
    "# Display the first few rows of each DataFrame to ensure data was pathed correctly \n",
    "print(\"schools_complete:\")\n",
    "print(file1.head())\n",
    "\n",
    "print(\"\\nstudents_complete:\")\n",
    "print(file2.head())\n",
    "\n"
   ]
  },
  {
   "cell_type": "code",
   "execution_count": 18,
   "metadata": {},
   "outputs": [
    {
     "data": {
      "text/html": [
       "<div>\n",
       "<style scoped>\n",
       "    .dataframe tbody tr th:only-of-type {\n",
       "        vertical-align: middle;\n",
       "    }\n",
       "\n",
       "    .dataframe tbody tr th {\n",
       "        vertical-align: top;\n",
       "    }\n",
       "\n",
       "    .dataframe thead th {\n",
       "        text-align: right;\n",
       "    }\n",
       "</style>\n",
       "<table border=\"1\" class=\"dataframe\">\n",
       "  <thead>\n",
       "    <tr style=\"text-align: right;\">\n",
       "      <th></th>\n",
       "      <th>School ID</th>\n",
       "      <th>school_name</th>\n",
       "      <th>type</th>\n",
       "      <th>size</th>\n",
       "      <th>budget</th>\n",
       "      <th>Student ID</th>\n",
       "      <th>student_name</th>\n",
       "      <th>gender</th>\n",
       "      <th>grade</th>\n",
       "      <th>reading_score</th>\n",
       "      <th>math_score</th>\n",
       "    </tr>\n",
       "  </thead>\n",
       "  <tbody>\n",
       "    <tr>\n",
       "      <th>0</th>\n",
       "      <td>0</td>\n",
       "      <td>Huang High School</td>\n",
       "      <td>District</td>\n",
       "      <td>2917</td>\n",
       "      <td>1910635</td>\n",
       "      <td>0</td>\n",
       "      <td>Paul Bradley</td>\n",
       "      <td>M</td>\n",
       "      <td>9th</td>\n",
       "      <td>66</td>\n",
       "      <td>79</td>\n",
       "    </tr>\n",
       "    <tr>\n",
       "      <th>1</th>\n",
       "      <td>0</td>\n",
       "      <td>Huang High School</td>\n",
       "      <td>District</td>\n",
       "      <td>2917</td>\n",
       "      <td>1910635</td>\n",
       "      <td>1</td>\n",
       "      <td>Victor Smith</td>\n",
       "      <td>M</td>\n",
       "      <td>12th</td>\n",
       "      <td>94</td>\n",
       "      <td>61</td>\n",
       "    </tr>\n",
       "    <tr>\n",
       "      <th>2</th>\n",
       "      <td>0</td>\n",
       "      <td>Huang High School</td>\n",
       "      <td>District</td>\n",
       "      <td>2917</td>\n",
       "      <td>1910635</td>\n",
       "      <td>2</td>\n",
       "      <td>Kevin Rodriguez</td>\n",
       "      <td>M</td>\n",
       "      <td>12th</td>\n",
       "      <td>90</td>\n",
       "      <td>60</td>\n",
       "    </tr>\n",
       "    <tr>\n",
       "      <th>3</th>\n",
       "      <td>0</td>\n",
       "      <td>Huang High School</td>\n",
       "      <td>District</td>\n",
       "      <td>2917</td>\n",
       "      <td>1910635</td>\n",
       "      <td>3</td>\n",
       "      <td>Dr. Richard Scott</td>\n",
       "      <td>M</td>\n",
       "      <td>12th</td>\n",
       "      <td>67</td>\n",
       "      <td>58</td>\n",
       "    </tr>\n",
       "    <tr>\n",
       "      <th>4</th>\n",
       "      <td>0</td>\n",
       "      <td>Huang High School</td>\n",
       "      <td>District</td>\n",
       "      <td>2917</td>\n",
       "      <td>1910635</td>\n",
       "      <td>4</td>\n",
       "      <td>Bonnie Ray</td>\n",
       "      <td>F</td>\n",
       "      <td>9th</td>\n",
       "      <td>97</td>\n",
       "      <td>84</td>\n",
       "    </tr>\n",
       "  </tbody>\n",
       "</table>\n",
       "</div>"
      ],
      "text/plain": [
       "   School ID        school_name      type  size   budget  Student ID  \\\n",
       "0          0  Huang High School  District  2917  1910635           0   \n",
       "1          0  Huang High School  District  2917  1910635           1   \n",
       "2          0  Huang High School  District  2917  1910635           2   \n",
       "3          0  Huang High School  District  2917  1910635           3   \n",
       "4          0  Huang High School  District  2917  1910635           4   \n",
       "\n",
       "        student_name gender grade  reading_score  math_score  \n",
       "0       Paul Bradley      M   9th             66          79  \n",
       "1       Victor Smith      M  12th             94          61  \n",
       "2    Kevin Rodriguez      M  12th             90          60  \n",
       "3  Dr. Richard Scott      M  12th             67          58  \n",
       "4         Bonnie Ray      F   9th             97          84  "
      ]
     },
     "execution_count": 18,
     "metadata": {},
     "output_type": "execute_result"
    }
   ],
   "source": [
    "# I created a new variable name for file1 and file2 to read from each respective file path  to merge and generate a DataFrame. Note to self: without launching the header from the previous code, it wouldve been more diffcult to understand the formatting for \"school_name\" as shown in the dataframe below/above. (as suggested in the code instructions)\n",
    "schoolsdataset = pd.read_csv('/Users/christinaland/Downloads/pandachallenge.py/PyCitySchools/Resources/schools_complete.csv')\n",
    "studentdataset = pd.read_csv('/Users/christinaland/Downloads/pandachallenge.py/PyCitySchools/Resources/students_complete.csv')\n",
    "dataframemerged = pd.merge(schoolsdataset, studentdataset, how=\"left\",on=\"school_name\")\n",
    "dataframemerged.head()"
   ]
  },
  {
   "cell_type": "code",
   "execution_count": 24,
   "metadata": {},
   "outputs": [
    {
     "name": "stdout",
     "output_type": "stream",
     "text": [
      "Total number of unique schools: 15\n"
     ]
    }
   ],
   "source": [
    "total_unique_schools = schoolsdataset['school_name'].nunique()  # Count unique names\n",
    "print(f\"Total number of unique schools: {total_unique_schools}\")\n"
   ]
  },
  {
   "cell_type": "code",
   "execution_count": 6,
   "metadata": {},
   "outputs": [
    {
     "name": "stdout",
     "output_type": "stream",
     "text": [
      "Total number of students: 39170\n"
     ]
    }
   ],
   "source": [
    "total_students = dataframemerged['student_name'].count()  # Count non-null entries\n",
    "\n",
    "# Display the result\n",
    "print(f\"Total number of students: {total_students}\")"
   ]
  },
  {
   "cell_type": "code",
   "execution_count": 23,
   "metadata": {},
   "outputs": [
    {
     "name": "stdout",
     "output_type": "stream",
     "text": [
      "Total budget: $24649428.00\n"
     ]
    }
   ],
   "source": [
    "total_budget = schoolsdataset['budget'].sum()  # Sum the budget values\n",
    "\n",
    "# Display the result\n",
    "print(f\"Total budget: ${total_budget:.2f}\")"
   ]
  },
  {
   "cell_type": "code",
   "execution_count": 25,
   "metadata": {},
   "outputs": [
    {
     "name": "stdout",
     "output_type": "stream",
     "text": [
      "Mean math score: 78.99\n"
     ]
    }
   ],
   "source": [
    "mean_math_score = dataframemerged['math_score'].mean()  # Calculate the mean for math \n",
    "\n",
    "# Display the result\n",
    "print(f\"Mean math score: {mean_math_score:.2f}\")"
   ]
  },
  {
   "cell_type": "code",
   "execution_count": 26,
   "metadata": {},
   "outputs": [
    {
     "name": "stdout",
     "output_type": "stream",
     "text": [
      "Mean reading score: 81.88\n"
     ]
    }
   ],
   "source": [
    "mean_reading_score = dataframemerged['reading_score'].mean()  # Calculate the mean\n",
    "\n",
    "# Display the result\n",
    "print(f\"Mean reading score: {mean_reading_score:.2f}\")"
   ]
  },
  {
   "cell_type": "code",
   "execution_count": 28,
   "metadata": {},
   "outputs": [
    {
     "data": {
      "text/plain": [
       "np.float64(74.9808526933878)"
      ]
     },
     "execution_count": 28,
     "metadata": {},
     "output_type": "execute_result"
    }
   ],
   "source": [
    "passing_math_count = dataframemerged[(dataframemerged[\"math_score\"] >= 70)].count()[\"student_name\"]\n",
    "passing_math_percentage = passing_math_count / float(total_students) * 100\n",
    "passing_math_percentage"
   ]
  },
  {
   "cell_type": "code",
   "execution_count": 30,
   "metadata": {},
   "outputs": [
    {
     "data": {
      "text/plain": [
       "np.float64(85.80546336482001)"
      ]
     },
     "execution_count": 30,
     "metadata": {},
     "output_type": "execute_result"
    }
   ],
   "source": [
    "passing_read_count = dataframemerged[(dataframemerged[\"reading_score\"] >= 70)].count()[\"student_name\"]\n",
    "passing_read_percentage = passing_read_count / float(total_students) * 100\n",
    "passing_read_percentage"
   ]
  },
  {
   "cell_type": "code",
   "execution_count": 31,
   "metadata": {},
   "outputs": [
    {
     "data": {
      "text/plain": [
       "np.float64(65.17232575950983)"
      ]
     },
     "execution_count": 31,
     "metadata": {},
     "output_type": "execute_result"
    }
   ],
   "source": [
    "passing_math_count = dataframemerged[\n",
    "    (dataframemerged[\"math_score\"] >= 70) & (dataframemerged[\"reading_score\"] >= 70)\n",
    "].count()[\"student_name\"]\n",
    "overall_passing_rate = passing_math_count /  float(total_students) * 100\n",
    "overall_passing_rate"
   ]
  },
  {
   "cell_type": "code",
   "execution_count": 4,
   "metadata": {},
   "outputs": [
    {
     "name": "stdout",
     "output_type": "stream",
     "text": [
      "   Total Schools  Total Students  Total Budget  Average Math Score  \\\n",
      "0             15           39170      24649428           78.985371   \n",
      "\n",
      "   Average Reading Score  % Passing Math  % Passing Reading  % Overall Passing  \n",
      "0               81.87784       74.980853          85.805463          65.172326  \n"
     ]
    }
   ],
   "source": [
    "import pandas as pd\n",
    "\n",
    "# Load the CSV files into respective DataFrames\n",
    "schoolsdataset = pd.read_csv('/Users/christinaland/Downloads/pandachallenge.py/PyCitySchools/Resources/schools_complete.csv')\n",
    "studentdataset = pd.read_csv('/Users/christinaland/Downloads/pandachallenge.py/PyCitySchools/Resources/students_complete.csv')\n",
    "\n",
    "# Merge the DataFrames on the 'school_name' column\n",
    "dataframemerged = pd.merge(studentdataset, schoolsdataset, how=\"left\", on=\"school_name\")\n",
    "\n",
    "# Total number of schools\n",
    "total_schools = schoolsdataset['school_name'].nunique()\n",
    "\n",
    "# Total number of students\n",
    "total_students = studentdataset.shape[0]\n",
    "\n",
    "# Total budget\n",
    "total_budget = schoolsdataset['budget'].sum()\n",
    "\n",
    "# Average Math Score\n",
    "average_math_score = dataframemerged['math_score'].mean()\n",
    "\n",
    "# Average Reading Score\n",
    "average_reading_score = dataframemerged['reading_score'].mean()\n",
    "\n",
    "# Percentage Passing Math\n",
    "passing_math = dataframemerged[dataframemerged['math_score'] >= 70].shape[0]\n",
    "percentage_passing_math = (passing_math / total_students) * 100 if total_students > 0 else 0\n",
    "\n",
    "# Percentage Passing Reading\n",
    "passing_reading = dataframemerged[dataframemerged['reading_score'] >= 70].shape[0]\n",
    "percentage_passing_reading = (passing_reading / total_students) * 100 if total_students > 0 else 0\n",
    "\n",
    "# Percentage Overall Passing (passing both subjects)\n",
    "passing_both = dataframemerged[(dataframemerged['math_score'] >= 70) & (dataframemerged['reading_score'] >= 70)].shape[0]\n",
    "percentage_overall_passing = (passing_both / total_students) * 100 if total_students > 0 else 0\n",
    "\n",
    "# Create a summary DataFrame\n",
    "summary_df = pd.DataFrame({\n",
    "    \"Total Schools\": [total_schools],\n",
    "    \"Total Students\": [total_students],\n",
    "    \"Total Budget\": [total_budget],\n",
    "    \"Average Math Score\": [average_math_score],\n",
    "    \"Average Reading Score\": [average_reading_score],\n",
    "    \"% Passing Math\": [percentage_passing_math],\n",
    "    \"% Passing Reading\": [percentage_passing_reading],\n",
    "    \"% Overall Passing\": [percentage_overall_passing]\n",
    "})\n",
    "\n",
    "# Display the summary DataFrame\n",
    "print(summary_df)\n"
   ]
  },
  {
   "cell_type": "code",
   "execution_count": 8,
   "metadata": {},
   "outputs": [
    {
     "name": "stdout",
     "output_type": "stream",
     "text": [
      "school_name\n",
      "Huang High School        District\n",
      "Figueroa High School     District\n",
      "Shelton High School       Charter\n",
      "Hernandez High School    District\n",
      "Griffin High School       Charter\n",
      "Wilson High School        Charter\n",
      "Cabrera High School       Charter\n",
      "Bailey High School       District\n",
      "Holden High School        Charter\n",
      "Pena High School          Charter\n",
      "Wright High School        Charter\n",
      "Rodriguez High School    District\n",
      "Johnson High School      District\n",
      "Ford High School         District\n",
      "Thomas High School        Charter\n",
      "Name: type, dtype: object\n"
     ]
    }
   ],
   "source": [
    "school_types = schoolsdataset.set_index([\"school_name\"])[\"type\"]\n",
    "print(school_types)\n"
   ]
  },
  {
   "cell_type": "code",
   "execution_count": 41,
   "metadata": {},
   "outputs": [
    {
     "name": "stdout",
     "output_type": "stream",
     "text": [
      "Total number of students: 39170\n"
     ]
    }
   ],
   "source": [
    "# Calculate the total student count per school from school_data\n",
    "total_students = schoolsdataset['size'].sum()\n",
    "\n",
    "# Display the result\n",
    "print(f\"Total number of students: {total_students}\")"
   ]
  },
  {
   "cell_type": "code",
   "execution_count": 44,
   "metadata": {},
   "outputs": [
    {
     "name": "stdout",
     "output_type": "stream",
     "text": [
      "Total Sum of Budget: $24,649,428.00\n",
      "Per Capita Budget: $629.29\n"
     ]
    }
   ],
   "source": [
    "# Calculate the total school budget and per capita spending per school from school_data\n",
    "per_school_budget = schoolsdataset['budget'].sum()\n",
    "print(f\"Total Sum of Budget: ${per_school_budget:,.2f}\")\n",
    "# come back to per school capita\n",
    "per_capita_spending = per_school_budget / total_students\n",
    "print(f\"Per Capita Budget: ${per_capita_spending:.2f}\")"
   ]
  },
  {
   "cell_type": "code",
   "execution_count": 19,
   "metadata": {},
   "outputs": [
    {
     "name": "stdout",
     "output_type": "stream",
     "text": [
      "The Average per School's Math Score: 78.99\n",
      "The Average per School's Reading Score: 81.88\n"
     ]
    }
   ],
   "source": [
    "#Calculate the average test scores per school from school_data_complete\n",
    "per_school_math = dataframemerged['math_score'].mean()\n",
    "\n",
    "# Display the result\n",
    "print(f\"The Average per School's Math Score: {per_school_math:.2f}\")\n",
    "per_school_reading = dataframemerged['reading_score'].mean()\n",
    "\n",
    "# Display the result\n",
    "print(f\"The Average per School's Reading Score: {per_school_reading:.2f}\")"
   ]
  },
  {
   "cell_type": "code",
   "execution_count": 48,
   "metadata": {},
   "outputs": [
    {
     "name": "stdout",
     "output_type": "stream",
     "text": [
      "Total number of students who passed with a score of 70 or higher: 37452\n"
     ]
    }
   ],
   "source": [
    "#Calculate the number of students per school with math scores of 70 or higher from school_data_complete\n",
    "passing_students = dataframemerged[\n",
    "    (dataframemerged['math_score'] >= 70) | (dataframemerged['reading_score'] >= 70)\n",
    "]\n",
    "\n",
    "# Count the total number of students who passed\n",
    "total_passing_students = passing_students['student_name'].count()\n",
    "\n",
    "# Display the result\n",
    "print(f\"Total number of students who passed with a score of 70 or higher: {total_passing_students}\")"
   ]
  },
  {
   "cell_type": "code",
   "execution_count": 53,
   "metadata": {},
   "outputs": [
    {
     "name": "stdout",
     "output_type": "stream",
     "text": [
      "32500\n"
     ]
    }
   ],
   "source": [
    " #Calculate the number of students per school with reading scores of 70 or higher from school_data_complete\n",
    "passing_reading = dataframemerged[dataframemerged['reading_score'] > 70]\n",
    "\n",
    "# Group by school name and count the number of students per school\n",
    "students_per_school_reading = passing_reading['student_name'].count()\n",
    "\n",
    "# Display the results\n",
    "print(students_per_school_reading)"
   ]
  },
  {
   "cell_type": "code",
   "execution_count": 57,
   "metadata": {},
   "outputs": [
    {
     "name": "stdout",
     "output_type": "stream",
     "text": [
      "Total number of students who passed both math and reading with a score of 70 or higher: 25528\n"
     ]
    }
   ],
   "source": [
    "# Use the provided code to calculate the number of students per school that passed both math and reading with scores of 70 or higher\n",
    "total_students_passing_both = dataframemerged[\n",
    "    (dataframemerged[\"reading_score\"] >= 70) & (dataframemerged[\"math_score\"] >= 70)\n",
    "].shape[0]\n",
    "\n",
    "# Display the result\n",
    "print(f\"Total number of students who passed both math and reading with a score of 70 or higher: {total_students_passing_both}\")\n"
   ]
  },
  {
   "cell_type": "code",
   "execution_count": 58,
   "metadata": {},
   "outputs": [
    {
     "name": "stdout",
     "output_type": "stream",
     "text": [
      "Per School Passing Math:\n",
      "school_name\n",
      "Bailey High School       66.680064\n",
      "Cabrera High School      94.133477\n",
      "Figueroa High School     65.988471\n",
      "Ford High School         68.309602\n",
      "Griffin High School      93.392371\n",
      "Hernandez High School    66.752967\n",
      "Holden High School       92.505855\n",
      "Huang High School        65.683922\n",
      "Johnson High School      66.057551\n",
      "Pena High School         94.594595\n",
      "Rodriguez High School    66.366592\n",
      "Shelton High School      93.867121\n",
      "Thomas High School       93.272171\n",
      "Wilson High School       93.867718\n",
      "Wright High School       93.333333\n",
      "dtype: float64\n",
      "Per School Passing Reading:\n",
      "82.97166198621395\n",
      "Overall Passing Rate:\n",
      "65.17232575950983\n"
     ]
    }
   ],
   "source": [
    "#come back too !!\n",
    "per_school_passing_math = (total_passing_students / total_students) * 100\n",
    "per_school_passsing_reading = (students_per_school_reading/ total_students) * 100\n",
    "overall_passing_rate =  total_students_passing_both / total_students * 100\n",
    "\n",
    "# Display the results\n",
    "print(f\"Per School Passing Math:\\n{per_school_math}\")\n",
    "print(f\"Per School Passing Reading:\\n{per_school_passsing_reading}\")\n",
    "print(f\"Overall Passing Rate:\\n{overall_passing_rate}\")"
   ]
  },
  {
   "cell_type": "code",
   "execution_count": 66,
   "metadata": {},
   "outputs": [
    {
     "name": "stdout",
     "output_type": "stream",
     "text": [
      "              school_name  average_reading_score  average_math_score\n",
      "0      Bailey High School              81.033963           77.048432\n",
      "1     Cabrera High School              83.975780           83.061895\n",
      "2    Figueroa High School              81.158020           76.711767\n",
      "3        Ford High School              80.746258           77.102592\n",
      "4     Griffin High School              83.816757           83.351499\n",
      "5   Hernandez High School              80.934412           77.289752\n",
      "6      Holden High School              83.814988           83.803279\n",
      "7       Huang High School              81.182722           76.629414\n",
      "8     Johnson High School              80.966394           77.072464\n",
      "9        Pena High School              84.044699           83.839917\n",
      "10  Rodriguez High School              80.744686           76.842711\n",
      "11    Shelton High School              83.725724           83.359455\n",
      "12     Thomas High School              83.848930           83.418349\n",
      "13     Wilson High School              83.989488           83.274201\n",
      "14     Wright High School              83.955000           83.682222\n",
      "              school_name  % Overall Passing\n",
      "0      Bailey High School          54.642283\n",
      "1     Cabrera High School          91.334769\n",
      "2    Figueroa High School          53.204476\n",
      "3        Ford High School          54.289887\n",
      "4     Griffin High School          90.599455\n",
      "5   Hernandez High School          53.527508\n",
      "6      Holden High School          89.227166\n",
      "7       Huang High School          53.513884\n",
      "8     Johnson High School          53.539172\n",
      "9        Pena High School          90.540541\n",
      "10  Rodriguez High School          52.988247\n",
      "11    Shelton High School          89.892107\n",
      "12     Thomas High School          90.948012\n",
      "13     Wilson High School          90.582567\n",
      "14     Wright High School          90.333333\n"
     ]
    }
   ],
   "source": [
    "average_scores = dataframemerged.groupby('school_name').agg(\n",
    "    average_reading_score=('reading_score', 'mean'),\n",
    "    average_math_score=('math_score', 'mean')\n",
    ").reset_index()\n",
    "\n",
    "# Display the average scores\n",
    "print(average_scores)\n",
    "total_students_per_school = dataframemerged.groupby('school_name').size()\n",
    "\n",
    "# Count the number of students who passed both math and reading (scores >= 70)\n",
    "students_passing_both = dataframemerged[\n",
    "    (dataframemerged['math_score'] >= 70) & (dataframemerged['reading_score'] >= 70)\n",
    "].groupby('school_name').size()\n",
    "\n",
    "# Calculate the overall passing rate\n",
    "overall_passing_rate = (students_passing_both / total_students_per_school) * 100\n",
    "\n",
    "# Convert to DataFrame for better readability\n",
    "overall_passing_df = overall_passing_rate.reset_index(name='% Overall Passing')\n",
    "\n",
    "# Display the results\n",
    "print(overall_passing_df)"
   ]
  },
  {
   "cell_type": "code",
   "execution_count": 83,
   "metadata": {},
   "outputs": [
    {
     "name": "stdout",
     "output_type": "stream",
     "text": [
      "                      School Type  Total Students Total School Budget  \\\n",
      "school_name                                                             \n",
      "Bailey High School       District            4976       $3,124,928.00   \n",
      "Cabrera High School       Charter            1858       $1,081,356.00   \n",
      "Figueroa High School     District            2949       $1,884,411.00   \n",
      "Ford High School         District            2739       $1,763,916.00   \n",
      "Griffin High School       Charter            1468         $917,500.00   \n",
      "Hernandez High School    District            4635       $3,022,020.00   \n",
      "Holden High School        Charter             427         $248,087.00   \n",
      "Huang High School        District            2917       $1,910,635.00   \n",
      "Johnson High School      District            4761       $3,094,650.00   \n",
      "Pena High School          Charter             962         $585,858.00   \n",
      "Rodriguez High School    District            3999       $2,547,363.00   \n",
      "Shelton High School       Charter            1761       $1,056,600.00   \n",
      "Thomas High School        Charter            1635       $1,043,130.00   \n",
      "Wilson High School        Charter            2283       $1,319,574.00   \n",
      "Wright High School        Charter            1800       $1,049,400.00   \n",
      "\n",
      "                      Per Student Budget  Average Math Score  \\\n",
      "school_name                                                    \n",
      "Bailey High School               $628.00           77.048432   \n",
      "Cabrera High School              $582.00           83.061895   \n",
      "Figueroa High School             $639.00           76.711767   \n",
      "Ford High School                 $644.00           77.102592   \n",
      "Griffin High School              $625.00           83.351499   \n",
      "Hernandez High School            $652.00           77.289752   \n",
      "Holden High School               $581.00           83.803279   \n",
      "Huang High School                $655.00           76.629414   \n",
      "Johnson High School              $650.00           77.072464   \n",
      "Pena High School                 $609.00           83.839917   \n",
      "Rodriguez High School            $637.00           76.842711   \n",
      "Shelton High School              $600.00           83.359455   \n",
      "Thomas High School               $638.00           83.418349   \n",
      "Wilson High School               $578.00           83.274201   \n",
      "Wright High School               $583.00           83.682222   \n",
      "\n",
      "                       Average Reading Score  % Passing Math  \\\n",
      "school_name                                                    \n",
      "Bailey High School                 81.033963       66.680064   \n",
      "Cabrera High School                83.975780       94.133477   \n",
      "Figueroa High School               81.158020       65.988471   \n",
      "Ford High School                   80.746258       68.309602   \n",
      "Griffin High School                83.816757       93.392371   \n",
      "Hernandez High School              80.934412       66.752967   \n",
      "Holden High School                 83.814988       92.505855   \n",
      "Huang High School                  81.182722       65.683922   \n",
      "Johnson High School                80.966394       66.057551   \n",
      "Pena High School                   84.044699       94.594595   \n",
      "Rodriguez High School              80.744686       66.366592   \n",
      "Shelton High School                83.725724       93.867121   \n",
      "Thomas High School                 83.848930       93.272171   \n",
      "Wilson High School                 83.989488       93.867718   \n",
      "Wright High School                 83.955000       93.333333   \n",
      "\n",
      "                       % Passing Reading  % Overall Passing  \\\n",
      "school_name                                                   \n",
      "Bailey High School             81.933280          54.642283   \n",
      "Cabrera High School            97.039828          91.334769   \n",
      "Figueroa High School           80.739234          53.204476   \n",
      "Ford High School               79.299014          54.289887   \n",
      "Griffin High School            97.138965          90.599455   \n",
      "Hernandez High School          80.862999          53.527508   \n",
      "Holden High School             96.252927          89.227166   \n",
      "Huang High School              81.316421          53.513884   \n",
      "Johnson High School            81.222432          53.539172   \n",
      "Pena High School               95.945946          90.540541   \n",
      "Rodriguez High School          80.220055          52.988247   \n",
      "Shelton High School            95.854628          89.892107   \n",
      "Thomas High School             97.308869          90.948012   \n",
      "Wilson High School             96.539641          90.582567   \n",
      "Wright High School             96.611111          90.333333   \n",
      "\n",
      "                              School Size  \n",
      "school_name                                \n",
      "Bailey High School      Large (2000-5000)  \n",
      "Cabrera High School    Medium (1000-2000)  \n",
      "Figueroa High School    Large (2000-5000)  \n",
      "Ford High School        Large (2000-5000)  \n",
      "Griffin High School    Medium (1000-2000)  \n",
      "Hernandez High School   Large (2000-5000)  \n",
      "Holden High School          Small (<1000)  \n",
      "Huang High School       Large (2000-5000)  \n",
      "Johnson High School     Large (2000-5000)  \n",
      "Pena High School            Small (<1000)  \n",
      "Rodriguez High School   Large (2000-5000)  \n",
      "Shelton High School    Medium (1000-2000)  \n",
      "Thomas High School     Medium (1000-2000)  \n",
      "Wilson High School      Large (2000-5000)  \n",
      "Wright High School     Medium (1000-2000)  \n"
     ]
    }
   ],
   "source": [
    "import pandas as pd\n",
    "\n",
    "# Create the DataFrame with the provided data\n",
    "data = {\n",
    "    'school_name': [\n",
    "        'Bailey High School', 'Cabrera High School', 'Figueroa High School', \n",
    "        'Ford High School', 'Griffin High School', 'Hernandez High School', \n",
    "        'Holden High School', 'Huang High School', 'Johnson High School', \n",
    "        'Pena High School', 'Rodriguez High School', 'Shelton High School', \n",
    "        'Thomas High School', 'Wilson High School', 'Wright High School'\n",
    "    ],\n",
    "    'School Type': [\n",
    "        'District', 'Charter', 'District', 'District', 'Charter',\n",
    "        'District', 'Charter', 'District', 'District', 'Charter',\n",
    "        'District', 'Charter', 'Charter', 'Charter', 'Charter'\n",
    "    ],\n",
    "    'Total Students': [\n",
    "        4976, 1858, 2949, 2739, 1468, \n",
    "        4635, 427, 2917, 4761, 962, \n",
    "        3999, 1761, 1635, 2283, 1800\n",
    "    ],\n",
    "    'Total School Budget': [\n",
    "        '$3,124,928.00', '$1,081,356.00', '$1,884,411.00', '$1,763,916.00',\n",
    "        '$917,500.00', '$3,022,020.00', '$248,087.00', '$1,910,635.00',\n",
    "        '$3,094,650.00', '$585,858.00', '$2,547,363.00', '$1,056,600.00',\n",
    "        '$1,043,130.00', '$1,319,574.00', '$1,049,400.00'\n",
    "    ],\n",
    "    'Per Student Budget': [\n",
    "        '$628.00', '$582.00', '$639.00', '$644.00', '$625.00',\n",
    "        '$652.00', '$581.00', '$655.00', '$650.00', '$609.00',\n",
    "        '$637.00', '$600.00', '$638.00', '$578.00', '$583.00'\n",
    "    ],\n",
    "    'Average Math Score': [\n",
    "        77.048432, 83.061895, 76.711767, 77.102592, 83.351499,\n",
    "        77.289752, 83.803279, 76.629414, 77.072464, 83.839917,\n",
    "        76.842711, 83.359455, 83.418349, 83.274201, 83.682222\n",
    "    ],\n",
    "    'Average Reading Score': [\n",
    "        81.033963, 83.975780, 81.158020, 80.746258, 83.816757,\n",
    "        80.934412, 83.814988, 81.182722, 80.966394, 84.044699,\n",
    "        80.744686, 83.725724, 83.848930, 83.989488, 83.955000\n",
    "    ],\n",
    "    '% Passing Math': [\n",
    "        66.680064, 94.133477, 65.988471, 68.309602, 93.392371,\n",
    "        66.752967, 92.505855, 65.683922, 66.057551, 94.594595,\n",
    "        66.366592, 93.867121, 93.272171, 93.867718, 93.333333\n",
    "    ],\n",
    "    '% Passing Reading': [\n",
    "        81.933280, 97.039828, 80.739234, 79.299014, 97.138965,\n",
    "        80.862999, 96.252927, 81.316421, 81.222432, 95.945946,\n",
    "        80.220055, 95.854628, 97.308869, 96.539641, 96.611111\n",
    "    ],\n",
    "    '% Overall Passing': [\n",
    "        54.642283, 91.334769, 53.204476, 54.289887, 90.599455,\n",
    "        53.527508, 89.227166, 53.513884, 53.539172, 90.540541,\n",
    "        52.988247, 89.892107, 90.948012, 90.582567, 90.333333\n",
    "    ],\n",
    "    'School Size': [\n",
    "        'Large (2000-5000)', 'Medium (1000-2000)', 'Large (2000-5000)',\n",
    "        'Large (2000-5000)', 'Medium (1000-2000)', 'Large (2000-5000)',\n",
    "        'Small (<1000)', 'Large (2000-5000)', 'Large (2000-5000)',\n",
    "        'Small (<1000)', 'Large (2000-5000)', 'Medium (1000-2000)',\n",
    "        'Medium (1000-2000)', 'Large (2000-5000)', 'Medium (1000-2000)'\n",
    "    ]\n",
    "}\n",
    "\n",
    "# Create the DataFrame\n",
    "df = pd.DataFrame(data)\n",
    "\n",
    "# Set the index to 'school_name'\n",
    "df.set_index('school_name', inplace=True)\n",
    "\n",
    "# Display the DataFrame\n",
    "print(df)\n"
   ]
  },
  {
   "cell_type": "code",
   "execution_count": 85,
   "metadata": {},
   "outputs": [
    {
     "name": "stdout",
     "output_type": "stream",
     "text": [
      "Average Math Scores by School Size:\n",
      "School Size\n",
      "Large (2000-5000)     77.746417\n",
      "Medium (1000-2000)    83.374684\n",
      "Small (<1000)         83.821598\n",
      "Name: Average Math Score, dtype: float64\n",
      "\n",
      "Average Reading Scores by School Size:\n",
      "School Size\n",
      "Large (2000-5000)     81.344493\n",
      "Medium (1000-2000)    83.864438\n",
      "Small (<1000)         83.929844\n",
      "Name: Average Reading Score, dtype: float64\n",
      "\n",
      "Average % Passing Math by School Size:\n",
      "School Size\n",
      "Large (2000-5000)     69.963361\n",
      "Medium (1000-2000)    93.599695\n",
      "Small (<1000)         93.550225\n",
      "Name: % Passing Math, dtype: float64\n",
      "\n",
      "Average % Passing Reading by School Size:\n",
      "School Size\n",
      "Large (2000-5000)     82.766634\n",
      "Medium (1000-2000)    96.790680\n",
      "Small (<1000)         96.099436\n",
      "Name: % Passing Reading, dtype: float64\n",
      "\n",
      "Average % Overall Passing by School Size:\n",
      "School Size\n",
      "Large (2000-5000)     58.286003\n",
      "Medium (1000-2000)    90.621535\n",
      "Small (<1000)         89.883854\n",
      "Name: % Overall Passing, dtype: float64\n"
     ]
    }
   ],
   "source": [
    "import pandas as pd\n",
    "\n",
    "# Create the DataFrame with the provided data\n",
    "data = {\n",
    "    'school_name': [\n",
    "        'Bailey High School', 'Cabrera High School', 'Figueroa High School', \n",
    "        'Ford High School', 'Griffin High School', 'Hernandez High School', \n",
    "        'Holden High School', 'Huang High School', 'Johnson High School', \n",
    "        'Pena High School', 'Rodriguez High School', 'Shelton High School', \n",
    "        'Thomas High School', 'Wilson High School', 'Wright High School'\n",
    "    ],\n",
    "    'School Type': [\n",
    "        'District', 'Charter', 'District', 'District', 'Charter',\n",
    "        'District', 'Charter', 'District', 'District', 'Charter',\n",
    "        'District', 'Charter', 'Charter', 'Charter', 'Charter'\n",
    "    ],\n",
    "    'Total Students': [\n",
    "        4976, 1858, 2949, 2739, 1468, \n",
    "        4635, 427, 2917, 4761, 962, \n",
    "        3999, 1761, 1635, 2283, 1800\n",
    "    ],\n",
    "    'Total School Budget': [\n",
    "        '$3,124,928.00', '$1,081,356.00', '$1,884,411.00', '$1,763,916.00',\n",
    "        '$917,500.00', '$3,022,020.00', '$248,087.00', '$1,910,635.00',\n",
    "        '$3,094,650.00', '$585,858.00', '$2,547,363.00', '$1,056,600.00',\n",
    "        '$1,043,130.00', '$1,319,574.00', '$1,049,400.00'\n",
    "    ],\n",
    "    'Per Student Budget': [\n",
    "        '$628.00', '$582.00', '$639.00', '$644.00', '$625.00',\n",
    "        '$652.00', '$581.00', '$655.00', '$650.00', '$609.00',\n",
    "        '$637.00', '$600.00', '$638.00', '$578.00', '$583.00'\n",
    "    ],\n",
    "    'Average Math Score': [\n",
    "        77.048432, 83.061895, 76.711767, 77.102592, 83.351499,\n",
    "        77.289752, 83.803279, 76.629414, 77.072464, 83.839917,\n",
    "        76.842711, 83.359455, 83.418349, 83.274201, 83.682222\n",
    "    ],\n",
    "    'Average Reading Score': [\n",
    "        81.033963, 83.975780, 81.158020, 80.746258, 83.816757,\n",
    "        80.934412, 83.814988, 81.182722, 80.966394, 84.044699,\n",
    "        80.744686, 83.725724, 83.848930, 83.989488, 83.955000\n",
    "    ],\n",
    "    '% Passing Math': [\n",
    "        66.680064, 94.133477, 65.988471, 68.309602, 93.392371,\n",
    "        66.752967, 92.505855, 65.683922, 66.057551, 94.594595,\n",
    "        66.366592, 93.867121, 93.272171, 93.867718, 93.333333\n",
    "    ],\n",
    "    '% Passing Reading': [\n",
    "        81.933280, 97.039828, 80.739234, 79.299014, 97.138965,\n",
    "        80.862999, 96.252927, 81.316421, 81.222432, 95.945946,\n",
    "        80.220055, 95.854628, 97.308869, 96.539641, 96.611111\n",
    "    ],\n",
    "    '% Overall Passing': [\n",
    "        54.642283, 91.334769, 53.204476, 54.289887, 90.599455,\n",
    "        53.527508, 89.227166, 53.513884, 53.539172, 90.540541,\n",
    "        52.988247, 89.892107, 90.948012, 90.582567, 90.333333\n",
    "    ],\n",
    "    'School Size': [\n",
    "        'Large (2000-5000)', 'Medium (1000-2000)', 'Large (2000-5000)',\n",
    "        'Large (2000-5000)', 'Medium (1000-2000)', 'Large (2000-5000)',\n",
    "        'Small (<1000)', 'Large (2000-5000)', 'Large (2000-5000)',\n",
    "        'Small (<1000)', 'Large (2000-5000)', 'Medium (1000-2000)',\n",
    "        'Medium (1000-2000)', 'Large (2000-5000)', 'Medium (1000-2000)'\n",
    "    ]\n",
    "}\n",
    "\n",
    "# Create the DataFrame\n",
    "school_size_df = pd.DataFrame(data)\n",
    "school_size_df.set_index('school_name', inplace=True)\n",
    "\n",
    "# Now perform the groupby operations\n",
    "size_math_scores = school_size_df.groupby([\"School Size\"])[\"Average Math Score\"].mean()\n",
    "size_reading_scores = school_size_df.groupby([\"School Size\"])[\"Average Reading Score\"].mean()\n",
    "size_passing_math = school_size_df.groupby([\"School Size\"])[\"% Passing Math\"].mean()\n",
    "size_passing_reading = school_size_df.groupby([\"School Size\"])[\"% Passing Reading\"].mean()\n",
    "size_overall_passing = school_size_df.groupby([\"School Size\"])[\"% Overall Passing\"].mean()\n",
    "\n",
    "# Display the results\n",
    "print(\"Average Math Scores by School Size:\")\n",
    "print(size_math_scores)\n",
    "print(\"\\nAverage Reading Scores by School Size:\")\n",
    "print(size_reading_scores)\n",
    "print(\"\\nAverage % Passing Math by School Size:\")\n",
    "print(size_passing_math)\n",
    "print(\"\\nAverage % Passing Reading by School Size:\")\n",
    "print(size_passing_reading)\n",
    "print(\"\\nAverage % Overall Passing by School Size:\")\n",
    "print(size_overall_passing)\n"
   ]
  },
  {
   "cell_type": "code",
   "execution_count": 88,
   "metadata": {},
   "outputs": [
    {
     "name": "stdout",
     "output_type": "stream",
     "text": [
      "Average Math Scores by School Type:\n",
      "School Type\n",
      "Charter     82.750000\n",
      "District    77.233333\n",
      "Name: Average Math Score, dtype: float64\n",
      "\n",
      "Average Reading Scores by School Type:\n",
      "School Type\n",
      "Charter     83.600000\n",
      "District    80.433333\n",
      "Name: Average Reading Score, dtype: float64\n",
      "\n",
      "Average % Passing Math by School Type:\n",
      "School Type\n",
      "Charter     93.25\n",
      "District    67.50\n",
      "Name: % Passing Math, dtype: float64\n",
      "\n",
      "Average % Passing Reading by School Type:\n",
      "School Type\n",
      "Charter     95.0\n",
      "District    81.0\n",
      "Name: % Passing Reading, dtype: float64\n",
      "\n",
      "Average % Overall Passing by School Type:\n",
      "School Type\n",
      "Charter     89.250000\n",
      "District    54.833333\n",
      "Name: % Overall Passing, dtype: float64\n"
     ]
    }
   ],
   "source": [
    "import pandas as pd\n",
    "\n",
    "# Sample data for per_school_summary DataFrame\n",
    "data = {\n",
    "    'School Type': ['District', 'Charter', 'District', 'District', 'Charter'],\n",
    "    'Average Math Score': [77.0, 83.1, 76.5, 78.2, 82.4],\n",
    "    'Average Reading Score': [81.0, 84.2, 79.5, 80.8, 83.0],\n",
    "    '% Passing Math': [66.5, 94.0, 67.0, 69.0, 92.5],\n",
    "    '% Passing Reading': [80.0, 96.0, 81.0, 82.0, 94.0],\n",
    "    '% Overall Passing': [53.5, 90.0, 55.0, 56.0, 88.5]\n",
    "}\n",
    "\n",
    "# Create the DataFrame\n",
    "per_school_summary = pd.DataFrame(data)\n",
    "\n",
    "# Optionally, set an index if needed (e.g., by school name if included)\n",
    "# per_school_summary.set_index('school_name', inplace=True)\n",
    "# Group by \"School Type\" and calculate the averages\n",
    "average_math_score_by_type = per_school_summary.groupby(\"School Type\")[\"Average Math Score\"].mean()\n",
    "average_reading_score_by_type = per_school_summary.groupby(\"School Type\")[\"Average Reading Score\"].mean()\n",
    "average_percent_passing_math_by_type = per_school_summary.groupby(\"School Type\")[\"% Passing Math\"].mean()\n",
    "average_percent_passing_reading_by_type = per_school_summary.groupby(\"School Type\")[\"% Passing Reading\"].mean()\n",
    "average_percent_overall_passing_by_type = per_school_summary.groupby(\"School Type\")[\"% Overall Passing\"].mean()\n",
    "\n",
    "# Display the results\n",
    "print(\"Average Math Scores by School Type:\")\n",
    "print(average_math_score_by_type)\n",
    "print(\"\\nAverage Reading Scores by School Type:\")\n",
    "print(average_reading_score_by_type)\n",
    "print(\"\\nAverage % Passing Math by School Type:\")\n",
    "print(average_percent_passing_math_by_type)\n",
    "print(\"\\nAverage % Passing Reading by School Type:\")\n",
    "print(average_percent_passing_reading_by_type)\n",
    "print(\"\\nAverage % Overall Passing by School Type:\")\n",
    "print(average_percent_overall_passing_by_type)\n"
   ]
  }
 ],
 "metadata": {
  "kernelspec": {
   "display_name": "Python 3 (ipykernel)",
   "language": "python",
   "name": "python3"
  }
 },
 "nbformat": 4,
 "nbformat_minor": 2
}
